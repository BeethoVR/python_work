{
 "cells": [
  {
   "cell_type": "markdown",
   "metadata": {},
   "source": [
    "# Mapas de calor\n",
    "\n",
    "<p style='text-align: justify;'>Los <b><font color = green>mapas de calor</font></b> se utilizan para representar datos utilizando diferentes variaciones de colores, se aplican a datos almacenados en formato tabular y los valores numéricos contenidos en cada una de las celdas son sustituidos por colores establecidos previamente por el investigador en una escala que se incluye junto al mapa de calor para que cualquier observador pueda entender la información mostrada.</p>\n",
    "<br>\n",
    "<center><img src=\"img/Calor1.png\" width = \"70%\"></center>\n",
    "<br>\n",
    "<p style='text-align: justify;'>Los mapas de calor son buenos para mostrar la varianza a través de múltiples variables, revelando cualquier patrón, mostrando si las variables son similares entre sí y para detectar si existen correlaciones entre ellas. Una desventaja que presentan es que, debido a su dependencia del color para comunicar los valores, muchas veces es muy difícil distinguir con precisión los valores exactos que se representan en cada una de las celdas, por lo que los mapas de calor se utilizan en mayor medida para darnos una idea generalizada de la información.</p>\n",
    "<br>\n",
    "<center><img src=\"img/Calor2.png\" width = \"70%\"></center>\n",
    "\n",
    "***"
   ]
  },
  {
   "cell_type": "code",
   "execution_count": null,
   "metadata": {
    "collapsed": true
   },
   "outputs": [],
   "source": [
    "import pandas as pd"
   ]
  },
  {
   "cell_type": "markdown",
   "metadata": {},
   "source": [
    "Heart Disease UCI Cleveland\n",
    "<br>\n",
    "https://www.kaggle.com/ronitf/heart-disease-uci"
   ]
  },
  {
   "cell_type": "code",
   "execution_count": null,
   "metadata": {},
   "outputs": [],
   "source": [
    "df = pd.read_csv('data/heart/heart.csv')\n",
    "df.head()"
   ]
  },
  {
   "cell_type": "code",
   "execution_count": null,
   "metadata": {},
   "outputs": [],
   "source": [
    "df.corr()"
   ]
  },
  {
   "cell_type": "code",
   "execution_count": null,
   "metadata": {},
   "outputs": [],
   "source": [
    "import matplotlib.pyplot as plt\n",
    "%matplotlib inline\n",
    "plt.imshow(df.corr())"
   ]
  },
  {
   "cell_type": "code",
   "execution_count": null,
   "metadata": {},
   "outputs": [],
   "source": [
    "corr=df.corr()\n",
    "\n",
    "fig, ax = plt.subplots()\n",
    "plt.imshow(corr)\n",
    "plt.xticks(range(len(corr)), corr.index, rotation=75)\n",
    "plt.yticks(range(len(corr)), corr.index)\n",
    "plt.show()"
   ]
  },
  {
   "cell_type": "code",
   "execution_count": null,
   "metadata": {},
   "outputs": [],
   "source": [
    "corr=df.corr()\n",
    "\n",
    "fig, ax = plt.subplots()\n",
    "plt.imshow(corr,cmap='PuOr') #<- https://matplotlib.org/3.1.0/tutorials/colors/colormaps.html\n",
    "plt.xticks(range(len(corr)), corr.index, rotation=75)\n",
    "plt.yticks(range(len(corr)), corr.index)\n",
    "plt.colorbar()\n",
    "plt.show()"
   ]
  },
  {
   "cell_type": "code",
   "execution_count": null,
   "metadata": {},
   "outputs": [],
   "source": [
    "import seaborn as sns\n",
    "import matplotlib.pylab as plt\n",
    "plt.figure(figsize=(12,10))\n",
    "sns.heatmap(corr)\n",
    "#sns.heatmap(corr, linewidth=0.5)\n",
    "plt.show()"
   ]
  },
  {
   "cell_type": "code",
   "execution_count": null,
   "metadata": {},
   "outputs": [],
   "source": [
    "import seaborn as sns\n",
    "import matplotlib.pylab as plt\n",
    "plt.figure(figsize=(12,10))\n",
    "sns.heatmap(corr, linewidth=0.5,annot=True,cmap=\"YlGnBu\") #<- https://matplotlib.org/3.1.0/tutorials/colors/colormaps.html\n",
    "plt.show()"
   ]
  }
 ],
 "metadata": {
  "kernelspec": {
   "display_name": "Python 3",
   "language": "python",
   "name": "python3"
  },
  "language_info": {
   "codemirror_mode": {
    "name": "ipython",
    "version": 3
   },
   "file_extension": ".py",
   "mimetype": "text/x-python",
   "name": "python",
   "nbconvert_exporter": "python",
   "pygments_lexer": "ipython3",
   "version": "3.6.2"
  }
 },
 "nbformat": 4,
 "nbformat_minor": 2
}
