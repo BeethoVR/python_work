{
 "cells": [
  {
   "cell_type": "code",
   "execution_count": null,
   "id": "99806cc5-33bf-4822-a8aa-a5d9cd239bcf",
   "metadata": {},
   "outputs": [
    {
     "ename": "",
     "evalue": "",
     "output_type": "error",
     "traceback": [
      "\u001b[1;31mLa ejecución de celdas con 'Python 3.11.10' requiere el paquete ipykernel.\n",
      "\u001b[1;31mEjecute el siguiente comando para instalar 'ipykernel' en el entorno de Python. comando \n",
      "\u001b[1;31m: '/usr/local/bin/python3.11 -m pip install ipykernel -U --user --force-reinstall'"
     ]
    }
   ],
   "source": [
    "import os\n",
    "os.listdir()"
   ]
  },
  {
   "cell_type": "code",
   "execution_count": 2,
   "id": "372b17f2-ed89-4ce1-ab20-f3b6fffc8ff1",
   "metadata": {},
   "outputs": [],
   "source": [
    "import pandas # type: ignore"
   ]
  },
  {
   "cell_type": "code",
   "execution_count": null,
   "id": "e093be43-13c6-4aa8-aa5b-daae671f7476",
   "metadata": {},
   "outputs": [],
   "source": [
    "df1=pandas.read_csv('supermarkets.csv')\n",
    "df1"
   ]
  },
  {
   "cell_type": "code",
   "execution_count": null,
   "id": "6c2664e2-90de-4c7b-bc11-9a2866811757",
   "metadata": {},
   "outputs": [],
   "source": [
    "df2=pandas.read_json('supermarkets.json')\n",
    "df2"
   ]
  },
  {
   "cell_type": "code",
   "execution_count": null,
   "id": "e73c8467-3a24-4904-930a-2755d8b6a816",
   "metadata": {},
   "outputs": [],
   "source": [
    "df2.Address"
   ]
  },
  {
   "cell_type": "code",
   "execution_count": null,
   "id": "38ca8dee-6a26-4c70-bf88-020a989407b9",
   "metadata": {},
   "outputs": [],
   "source": [
    "df3=pandas.read_excel('supermarkets.xlsx', sheet_name=0)\n",
    "df3"
   ]
  },
  {
   "cell_type": "code",
   "execution_count": null,
   "id": "b16d88e6-11d3-4ee9-86eb-7d27607aa697",
   "metadata": {},
   "outputs": [],
   "source": [
    "df4=pandas.read_csv('supermarkets-commas.txt')\n",
    "df4"
   ]
  },
  {
   "cell_type": "code",
   "execution_count": null,
   "id": "3f5eb8d7-bd41-4fe5-a8c3-362f1e9bd66d",
   "metadata": {},
   "outputs": [],
   "source": [
    "df5=pandas.read_csv('supermarkets-semi-colons.txt', sep=';')\n",
    "df5"
   ]
  },
  {
   "cell_type": "code",
   "execution_count": null,
   "id": "370dd223-f18d-4846-9fbc-dc60dc7fe9a3",
   "metadata": {},
   "outputs": [],
   "source": [
    "df6=pandas.read_csv('supermarkets-semi-colons.txt', sep=';', header= None)\n",
    "df6"
   ]
  },
  {
   "cell_type": "code",
   "execution_count": null,
   "id": "ab5743db-594b-4b26-bdef-bc27c90269bd",
   "metadata": {},
   "outputs": [],
   "source": [
    "df6.columns = ['ID','Address','City','State','Country','Name','Employees']\n",
    "df6"
   ]
  },
  {
   "cell_type": "code",
   "execution_count": null,
   "id": "efd26385-162e-4a45-9892-19a13e196cc5",
   "metadata": {},
   "outputs": [],
   "source": [
    "df6.set_index('ID')"
   ]
  },
  {
   "cell_type": "code",
   "execution_count": null,
   "id": "bb1839b4-8583-43e5-ae78-188d125bde30",
   "metadata": {},
   "outputs": [],
   "source": [
    "df6"
   ]
  },
  {
   "cell_type": "code",
   "execution_count": null,
   "id": "62a2dfa3-4eba-4a2d-a389-25d5b73de864",
   "metadata": {},
   "outputs": [],
   "source": [
    "df7 = df6.set_index('ID')\n",
    "df7"
   ]
  },
  {
   "cell_type": "code",
   "execution_count": null,
   "id": "32032330-3e35-4bda-9b13-c3e9fc3a77cb",
   "metadata": {},
   "outputs": [],
   "source": [
    "df7.loc['2':'4', 'State':'Name'] # Hay que fijarse bien porque si uno no escribe el nombre de las columnas bien, sale un error muy grande, y no se describe bien..."
   ]
  },
  {
   "cell_type": "code",
   "execution_count": null,
   "id": "e7ab01f4",
   "metadata": {},
   "outputs": [],
   "source": [
    "#df7.loc[:,'State']\n",
    "list(df7.loc[:,'Country'])"
   ]
  },
  {
   "cell_type": "code",
   "execution_count": null,
   "id": "62996689",
   "metadata": {},
   "outputs": [],
   "source": [
    "df7.iloc[2:5, 2:5]"
   ]
  },
  {
   "cell_type": "code",
   "execution_count": null,
   "id": "ec314779",
   "metadata": {},
   "outputs": [],
   "source": [
    "df7.iloc[3,2:5]"
   ]
  },
  {
   "cell_type": "code",
   "execution_count": null,
   "id": "0542435a",
   "metadata": {},
   "outputs": [],
   "source": [
    "df7"
   ]
  },
  {
   "cell_type": "code",
   "execution_count": null,
   "id": "9255cce7",
   "metadata": {},
   "outputs": [],
   "source": [
    "df7.drop('City', axis=1)\n",
    "#df7.drop('5',axis=0)\n",
    "#df7.axes\n",
    "#df7.columns"
   ]
  },
  {
   "cell_type": "code",
   "execution_count": 20,
   "id": "7844c64b",
   "metadata": {},
   "outputs": [],
   "source": [
    "df7 = df7.drop('ID',axis=0)"
   ]
  },
  {
   "cell_type": "code",
   "execution_count": null,
   "id": "f9102555",
   "metadata": {},
   "outputs": [],
   "source": [
    "#df7\n",
    "#len(df7.index)\n",
    "#df7['Continent']=df7.shape[0]*['North America']\n",
    "df7"
   ]
  },
  {
   "cell_type": "code",
   "execution_count": 22,
   "id": "57afc818",
   "metadata": {},
   "outputs": [],
   "source": [
    "dm=pandas.merge(left=df6, right=df7, on='ID')\n"
   ]
  },
  {
   "cell_type": "code",
   "execution_count": null,
   "id": "dc822f10",
   "metadata": {},
   "outputs": [],
   "source": [
    "dm"
   ]
  },
  {
   "cell_type": "code",
   "execution_count": 24,
   "id": "f837713d",
   "metadata": {},
   "outputs": [],
   "source": [
    "import geopy\n",
    "#dir(geopy)\n",
    "from geopy.geocoders import ArcGIS"
   ]
  },
  {
   "cell_type": "code",
   "execution_count": null,
   "id": "8c653cc8",
   "metadata": {},
   "outputs": [],
   "source": [
    "nom = ArcGIS()\n",
    "nom.geocode(\"3995 23rd St, San Francisco, CA 94114\") #Parece que el servicio está caído"
   ]
  },
  {
   "cell_type": "code",
   "execution_count": null,
   "id": "d5600392",
   "metadata": {},
   "outputs": [],
   "source": [
    "df1"
   ]
  }
 ],
 "metadata": {
  "kernelspec": {
   "display_name": "Python 3 (ipykernel)",
   "language": "python",
   "name": "python3"
  },
  "language_info": {
   "codemirror_mode": {
    "name": "ipython",
    "version": 3
   },
   "file_extension": ".py",
   "mimetype": "text/x-python",
   "name": "python",
   "nbconvert_exporter": "python",
   "pygments_lexer": "ipython3",
   "version": "3.12.7"
  }
 },
 "nbformat": 4,
 "nbformat_minor": 5
}
