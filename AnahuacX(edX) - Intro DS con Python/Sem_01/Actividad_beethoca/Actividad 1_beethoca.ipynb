{
 "cells": [
  {
   "cell_type": "markdown",
   "metadata": {},
   "source": [
    "<img src=\"img1/Banner Curso 1_.jpg\" width=\"921\" height=\"89\" align=\"center\"/>\n",
    "\n",
    "<h1><center>Introducción a la ciencia de datos con Python - AnáhuacX</center></h1>\n",
    "<h2><center>Actividad 1</center></h2>\n",
    "\n",
    "En el siguiente ejercicio practicarás algunos de los comandos vistos durante la semana y manipularás ciertas estructuras de control. Además, pondrás manos a la obra para construir funciones que te ayuden a realizar operaciones y transformación de datos. <strong>Al finalizar deberás subir tu cuaderno en un archivo .zip</strong>. Es muy importante que subas tu cuaderno de la manera en cómo te indicamos para que tus compañeros puedan revisar tu código.\n",
    "\n",
    "\n",
    "En la siguiente tabla se muestran las temperaturas promedio de la Ciudad de México registradas en el 2019:\n",
    "\n",
    "\n",
    "\n",
    "<div class=\"header\">\n",
    "  <h3 style=\"text-align:center;\">Temperatura promedio de la Ciudad de México registrada durante el 2019</h3>\n",
    "</div>\n",
    "\n",
    "<table align=\"center\">\n",
    "  <header>\n",
    "  </header>\n",
    "  <thead>\n",
    "    <tr bgcolor=\"darkorange\">\n",
    "      <th style=\"text-align:center;\">Mes</th>\n",
    "      <th style=\"text-align:center;\">Temperatura (°C)</th>\n",
    "    </tr>\n",
    "  </thead>\n",
    "  <tbody>\n",
    "    <tr>\n",
    "      <td style=\"text-align:center;\">Enero</td>\n",
    "      <td style=\"text-align:center;\">15.4</td>\n",
    "    </tr>\n",
    "    <tr>\n",
    "      <td style=\"text-align:center;\">Febrero</td>\n",
    "      <td style=\"text-align:center;\">18.1</td>\n",
    "    </tr>\n",
    "    <tr>\n",
    "      <td style=\"text-align:center;\">Marzo</td>\n",
    "      <td style=\"text-align:center;\">19.2</td>\n",
    "    </tr>\n",
    "    <tr>\n",
    "      <td style=\"text-align:center;\">Abril</td>\n",
    "      <td style=\"text-align:center;\">20.2</td>\n",
    "    </tr>\n",
    "    <tr>\n",
    "      <td style=\"text-align:center;\">Mayo</td>\n",
    "      <td style=\"text-align:center;\">21.4</td>\n",
    "    </tr>\n",
    "    <tr>\n",
    "      <td style=\"text-align:center;\">Junio</td>\n",
    "      <td style=\"text-align:center;\">20.1</td>\n",
    "    </tr>\n",
    "    <tr>\n",
    "      <td style=\"text-align:center;\">Julio</td>\n",
    "      <td style=\"text-align:center;\">18.9</td>\n",
    "    </tr>\n",
    "    <tr>\n",
    "      <td style=\"text-align:center;\">Agosto</td>\n",
    "      <td style=\"text-align:center;\">19.8</td>\n",
    "    </tr>\n",
    "    <tr>\n",
    "      <td style=\"text-align:center;\">Septiembre</td>\n",
    "      <td style=\"text-align:center;\">19.4</td>\n",
    "    </tr>\n",
    "    <tr>\n",
    "      <td style=\"text-align:center;\">Octubre</td>\n",
    "      <td style=\"text-align:center;\">19.1</td>\n",
    "    </tr>\n",
    "    <tr>\n",
    "      <td style=\"text-align:center;\">Noviembre</td>\n",
    "      <td style=\"text-align:center;\">17.9</td>\n",
    "    </tr>\n",
    "    <tr>\n",
    "      <td style=\"text-align:center;\">Diciembre</td>\n",
    "      <td style=\"text-align:center;\">15.7</td>\n",
    "    </tr>\n",
    "  </tbody>\n",
    "</table>\n",
    "\n",
    "1. Genera una lista solo con las temperaturas de la tabla anterior y grábalas en una variables llamada __temp_cdmx__."
   ]
  },
  {
   "cell_type": "code",
   "execution_count": 1,
   "metadata": {},
   "outputs": [],
   "source": [
    "temp_cdmx = [15.4, 18.1, 19.2, 20.2, 21.4, 20.1, 18.9, 19.8, 19.4, 19.1, 17.9, 15.7]"
   ]
  },
  {
   "cell_type": "markdown",
   "metadata": {},
   "source": [
    "2. Imprime la variable __temp_cdmx__ utilizando la instrucción __print__."
   ]
  },
  {
   "cell_type": "code",
   "execution_count": 2,
   "metadata": {},
   "outputs": [
    {
     "name": "stdout",
     "output_type": "stream",
     "text": [
      "[15.4, 18.1, 19.2, 20.2, 21.4, 20.1, 18.9, 19.8, 19.4, 19.1, 17.9, 15.7]\n"
     ]
    }
   ],
   "source": [
    "print(temp_cdmx)"
   ]
  },
  {
   "cell_type": "markdown",
   "metadata": {},
   "source": [
    "3. Define una función llamada __temp_convert__ que reciba como parámetro una variable o número que represente la temperatura en grados __Celsius__ y que devuelva la temperatura convertida en grados __Fahrenheit__.\n",
    "\n",
    "__Nota__: La ecuacion de la conversión es la siguiente: \n",
    "\n",
    "<p style=\"text-align:center;\"><strong>Fahrenheit = 1.8 * Celsius + 32</strong></p>"
   ]
  },
  {
   "cell_type": "code",
   "execution_count": 4,
   "metadata": {},
   "outputs": [],
   "source": [
    "def temp_convert(celcius):\n",
    "    return 1.8 * celcius + 32"
   ]
  },
  {
   "cell_type": "markdown",
   "metadata": {},
   "source": [
    "4. Utiliza la función creada, imprime tus resultados en el cuaderno y contesta las siguientes preguntas __en la plataforma de EdX__:\n",
    "\n",
    "<p style=\"text-align: center;\"><strong>¿Cuál es la temperatura en Fahrenheit de 0°C?</strong></p>"
   ]
  },
  {
   "cell_type": "code",
   "execution_count": 5,
   "metadata": {},
   "outputs": [
    {
     "name": "stdout",
     "output_type": "stream",
     "text": [
      "32.0\n"
     ]
    }
   ],
   "source": [
    "print(temp_convert(0))"
   ]
  },
  {
   "cell_type": "markdown",
   "metadata": {},
   "source": [
    "5. ¿Cuál es la temperatura en Fahrenheit de 36°C?"
   ]
  },
  {
   "cell_type": "code",
   "execution_count": 6,
   "metadata": {},
   "outputs": [
    {
     "name": "stdout",
     "output_type": "stream",
     "text": [
      "96.8\n"
     ]
    }
   ],
   "source": [
    "print(temp_convert(36))"
   ]
  },
  {
   "cell_type": "markdown",
   "metadata": {},
   "source": [
    "6. ¿Cuál es la temperatura en Fahrenheit de 98°C?"
   ]
  },
  {
   "cell_type": "code",
   "execution_count": 7,
   "metadata": {},
   "outputs": [
    {
     "name": "stdout",
     "output_type": "stream",
     "text": [
      "208.4\n"
     ]
    }
   ],
   "source": [
    "print(temp_convert(98))"
   ]
  },
  {
   "cell_type": "markdown",
   "metadata": {},
   "source": [
    "7. Utiliza la estructura de control __\"for\"__ para iterar cada uno de los doce valores de la variable __\"temp_cdmx\"__. En cada una de las iteraciones aplica la __función que definiste__ previamente para obtener la temperatura correspondiente en grados Fahrenheit. Imprime en pantalla los valores devueltos por la función."
   ]
  },
  {
   "cell_type": "code",
   "execution_count": 8,
   "metadata": {},
   "outputs": [
    {
     "name": "stdout",
     "output_type": "stream",
     "text": [
      "59.72\n",
      "64.58000000000001\n",
      "66.56\n",
      "68.36\n",
      "70.52\n",
      "68.18\n",
      "66.02\n",
      "67.64\n",
      "66.92\n",
      "66.38\n",
      "64.22\n",
      "60.26\n"
     ]
    }
   ],
   "source": [
    "for temp in temp_cdmx:\n",
    "    print(temp_convert(temp))"
   ]
  },
  {
   "cell_type": "markdown",
   "metadata": {},
   "source": [
    "8. Con base en los resultados de tu iteración, __¿Cuál es el valor encontrado en la cuarta fila?__ Imprime aquí el valor solicitado."
   ]
  },
  {
   "cell_type": "code",
   "execution_count": 9,
   "metadata": {},
   "outputs": [
    {
     "data": {
      "text/plain": [
       "70.52"
      ]
     },
     "execution_count": 9,
     "metadata": {},
     "output_type": "execute_result"
    }
   ],
   "source": [
    "70.52"
   ]
  },
  {
   "cell_type": "markdown",
   "metadata": {},
   "source": [
    "9. Con base en los resultados de tu iteración, __¿Cuál es el valor encontrado en la octava fila?__ Imprime aquí el valor solicitado."
   ]
  },
  {
   "cell_type": "code",
   "execution_count": 10,
   "metadata": {},
   "outputs": [
    {
     "data": {
      "text/plain": [
       "66.92"
      ]
     },
     "execution_count": 10,
     "metadata": {},
     "output_type": "execute_result"
    }
   ],
   "source": [
    "66.92"
   ]
  },
  {
   "cell_type": "markdown",
   "metadata": {},
   "source": [
    "10. Construye una función llamada __temp_promedio__ que te permita calcular el promedio de temperatura anual."
   ]
  },
  {
   "cell_type": "code",
   "execution_count": 13,
   "metadata": {},
   "outputs": [],
   "source": [
    "def temp_promedio(list_temps):\n",
    "    suma = 0\n",
    "    for temp in list_temps:\n",
    "        suma += temp\n",
    "    return(suma/len(list_temps))\n"
   ]
  },
  {
   "cell_type": "markdown",
   "metadata": {},
   "source": [
    "11. Utiliza la función con la variable __temp_cdmx__, imprime el resultado y responde en la __plataforma de EdX__: \n",
    "\n",
    "<p style=\"text-align: center;\"><strong>¿Cuál es el promedio de temperatura anual del 2019 en la Ciudad de México?</strong></p>"
   ]
  },
  {
   "cell_type": "code",
   "execution_count": 14,
   "metadata": {},
   "outputs": [
    {
     "name": "stdout",
     "output_type": "stream",
     "text": [
      "18.76666666666667\n"
     ]
    }
   ],
   "source": [
    "print(temp_promedio(temp_cdmx))"
   ]
  },
  {
   "cell_type": "markdown",
   "metadata": {},
   "source": [
    "12. Agrega el valor obtenido en el punto 11 a la lista de temperaturas almacenadas en la variable __temp_cdmx__. Imprime la lista modificada en tu libreta."
   ]
  },
  {
   "cell_type": "code",
   "execution_count": 15,
   "metadata": {},
   "outputs": [
    {
     "name": "stdout",
     "output_type": "stream",
     "text": [
      "[15.4, 18.1, 19.2, 20.2, 21.4, 20.1, 18.9, 19.8, 19.4, 19.1, 17.9, 15.7, 18.76]\n"
     ]
    }
   ],
   "source": [
    "temp_cdmx.append(18.76)\n",
    "print(temp_cdmx)"
   ]
  },
  {
   "cell_type": "markdown",
   "metadata": {},
   "source": [
    "La siguiente tabla (Hetschell, 1986) es una escala de sensaciones térmicas asociadas a los rangos de la Temperatura Efectiva (TE) el cual fue desarrollado por el ingeniero francés André Missenard (1937). La sensación térmica puede variar dependiendo de varios factores, como la región, la vestimenta, el género, la edad, entre otros y no necesariamente corresopnde a la manera en cómo los capitalinos perciben la temperatura ambiente. Sin embargo, la utilizaremos para efectos prácticos de nuestro ejercicio.\n",
    "\n",
    "<div class=\"header\">\n",
    "  <h3 style=\"text-align:center;\">Escala de sensaciones térmicas asociadas a la Temperatura Efectiva</h3>\n",
    "</div>\n",
    "\n",
    "<table align=\"center\">\n",
    "  <header>\n",
    "  </header>\n",
    "  <thead>\n",
    "    <tr bgcolor=\"darkorange\">\n",
    "      <th style=\"text-align:center;\">Rangos de Temperatura efectiva (°C)</th>\n",
    "      <th style=\"text-align:center;\">Sensación térmica</th>\n",
    "    </tr>\n",
    "  </thead>\n",
    "  <tbody>\n",
    "    <tr>\n",
    "      <td style=\"text-align:center;\">mayores a 30</td>\n",
    "      <td style=\"text-align:center;\">Calor pesado</td>\n",
    "    </tr>\n",
    "    <tr>\n",
    "      <td style=\"text-align:center;\">24 a 30</td>\n",
    "      <td style=\"text-align:center;\">Calor moderado</td>\n",
    "    </tr>\n",
    "    <tr>\n",
    "      <td style=\"text-align:center;\">18 a 24</td>\n",
    "      <td style=\"text-align:center;\">Calor placentero</td>\n",
    "    </tr>\n",
    "    <tr>\n",
    "      <td style=\"text-align:center;\">12 a 18</td>\n",
    "      <td style=\"text-align:center;\">Placentero</td>\n",
    "    </tr>\n",
    "    <tr>\n",
    "      <td style=\"text-align:center;\">6 a 12</td>\n",
    "      <td style=\"text-align:center;\">Fresco</td>\n",
    "    </tr>\n",
    "    <tr>\n",
    "      <td style=\"text-align:center;\">0 a 6</td>\n",
    "      <td style=\"text-align:center;\">Muy fresco</td>\n",
    "    </tr>\n",
    "    <tr>\n",
    "      <td style=\"text-align:center;\">-6 a 0</td>\n",
    "      <td style=\"text-align:center;\">Frío ligero</td>\n",
    "    </tr>\n",
    "    <tr>\n",
    "      <td style=\"text-align:center;\">-12 a -6</td>\n",
    "      <td style=\"text-align:center;\">Frío</td>\n",
    "    </tr>\n",
    "    <tr>\n",
    "      <td style=\"text-align:center;\">-18 a -12</td>\n",
    "      <td style=\"text-align:center;\">Muy frío</td>\n",
    "    </tr>\n",
    "    <tr>\n",
    "      <td style=\"text-align:center;\">-24 a -18</td>\n",
    "      <td style=\"text-align:center;\">Frío intenso</td>\n",
    "    </tr>\n",
    "    <tr>\n",
    "      <td style=\"text-align:center;\"> menores a 24 </td>\n",
    "      <td style=\"text-align:center;\">Peligro de congelación</td>\n",
    "    </tr>\n",
    "  </tbody>\n",
    "</table>\n",
    "\n",
    "13. Construye una función llamada __\"sensacion_temp\"__ en la que entregue la sensación térmica según la temperatura de la que se trate."
   ]
  },
  {
   "cell_type": "code",
   "execution_count": 21,
   "metadata": {},
   "outputs": [],
   "source": [
    "def sensacion_temp(grados):\n",
    "    rangos_temp = {\"Calor pesado\"       : [30, 100],\n",
    "                   \"Calor moderado\"     : [24, 30],\n",
    "                   \"Calor placentero\"   : [18, 24],\n",
    "                   \"Placentero\"         : [12, 18],\n",
    "                   \"Fresco\"             : [ 6, 12],\n",
    "                   \"Muy fresco\"         : [ 0,  6],\n",
    "                   \"Frío ligero\"        : [-6,  0],\n",
    "                   \"Frío\"               : [-12,-6],\n",
    "                   \"Muy frío\"           : [-18,-12],\n",
    "                   \"Frío intenso\"       : [-24, -18],\n",
    "                   \"Peligro de congelación\": [-100,-24]}  \n",
    "    for txt, rango in rangos_temp.items():\n",
    "        if (rango[0] <= grados <= rango[1]):\n",
    "            return txt         "
   ]
  },
  {
   "cell_type": "markdown",
   "metadata": {},
   "source": [
    "14. Evalúa la variable __\"temp_cdmx\"__ en la función __\"sensacion_temp\"__ y graba la lista resultante en la variable __\"sensacion_cdmx\"__. Finalmente, imprime esta última variable y responde a la siguiente pregunta en la __plataforma de EdX__: \n",
    "\n",
    "<p style='text-align:center;'><strong>¿Cuál es la sensación térmica que más aparece en la lista <em>\"sensacion_cdmx\"?</em></strong></p>"
   ]
  },
  {
   "cell_type": "code",
   "execution_count": 25,
   "metadata": {},
   "outputs": [
    {
     "name": "stdout",
     "output_type": "stream",
     "text": [
      "['Placentero', 'Calor placentero', 'Calor placentero', 'Calor placentero', 'Calor placentero', 'Calor placentero', 'Calor placentero', 'Calor placentero', 'Calor placentero', 'Calor placentero', 'Placentero', 'Placentero', 'Calor placentero']\n"
     ]
    }
   ],
   "source": [
    "sensacion_cdmx = []\n",
    "for temp in temp_cdmx:\n",
    "    sensacion_cdmx.append(sensacion_temp(temp))\n",
    "print(sensacion_cdmx)    "
   ]
  },
  {
   "cell_type": "markdown",
   "metadata": {},
   "source": [
    "La siguiente tabla muestra las temperaturas promedio de Bogotá, Colombia:\n",
    "\n",
    "<div class=\"header\">\n",
    "  <h3 style=\"text-align:center;\">Temperatura promedio de la Ciudad de Bogotá registrada durante el 2019</h3>\n",
    "</div>\n",
    "\n",
    "<table align=\"center\">\n",
    "  <header>\n",
    "  </header>\n",
    "  <thead>\n",
    "    <tr bgcolor=\"darkorange\">\n",
    "      <th style=\"text-align:center;\">Mes</th>\n",
    "      <th style=\"text-align:center;\">Temperatura (°C)</th>\n",
    "    </tr>\n",
    "  </thead>\n",
    "  <tbody>\n",
    "    <tr>\n",
    "      <td style=\"text-align:center;\">Enero</td>\n",
    "      <td style=\"text-align:center;\">13.9</td>\n",
    "    </tr>\n",
    "    <tr>\n",
    "      <td style=\"text-align:center;\">Febrero</td>\n",
    "      <td style=\"text-align:center;\">14.5</td>\n",
    "    </tr>\n",
    "    <tr>\n",
    "      <td style=\"text-align:center;\">Marzo</td>\n",
    "      <td style=\"text-align:center;\">14.8</td>\n",
    "    </tr>\n",
    "    <tr>\n",
    "      <td style=\"text-align:center;\">Abril</td>\n",
    "      <td style=\"text-align:center;\">14.9</td>\n",
    "    </tr>\n",
    "    <tr>\n",
    "      <td style=\"text-align:center;\">Mayo</td>\n",
    "      <td style=\"text-align:center;\">14.6</td>\n",
    "    </tr>\n",
    "    <tr>\n",
    "      <td style=\"text-align:center;\">Junio</td>\n",
    "      <td style=\"text-align:center;\">14.4</td>\n",
    "    </tr>\n",
    "    <tr>\n",
    "      <td style=\"text-align:center;\">Julio</td>\n",
    "      <td style=\"text-align:center;\">14</td>\n",
    "    </tr>\n",
    "    <tr>\n",
    "      <td style=\"text-align:center;\">Agosto</td>\n",
    "      <td style=\"text-align:center;\">13.8</td>\n",
    "    </tr>\n",
    "    <tr>\n",
    "      <td style=\"text-align:center;\">Septiembre</td>\n",
    "      <td style=\"text-align:center;\">14.2</td>\n",
    "    </tr>\n",
    "    <tr>\n",
    "      <td style=\"text-align:center;\">Octubre</td>\n",
    "      <td style=\"text-align:center;\">13.6</td>\n",
    "    </tr>\n",
    "    <tr>\n",
    "      <td style=\"text-align:center;\">Noviembre</td>\n",
    "      <td style=\"text-align:center;\">14.3</td>\n",
    "    </tr>\n",
    "    <tr>\n",
    "      <td style=\"text-align:center;\">Diciembre</td>\n",
    "      <td style=\"text-align:center;\">14.2</td>\n",
    "    </tr>\n",
    "  </tbody>\n",
    "</table>\n",
    "\n",
    "15. Agrega las temperaturas en una lista y guárdala en una variable llamada __\"temp_bogota\"__. Después, imprime la lista."
   ]
  },
  {
   "cell_type": "code",
   "execution_count": 27,
   "metadata": {},
   "outputs": [
    {
     "name": "stdout",
     "output_type": "stream",
     "text": [
      "[13.9, 14.5, 14.8, 14.9, 14.6, 14.4, 14, 13.8, 14.2, 13.6, 14.3, 14.2]\n"
     ]
    }
   ],
   "source": [
    "temp_bogota = [13.9, 14.5, 14.8, 14.9, 14.6, 14.4, 14, 13.8, 14.2, 13.6, 14.3, 14.2]\n",
    "print(temp_bogota)"
   ]
  },
  {
   "cell_type": "markdown",
   "metadata": {},
   "source": [
    "16. Utiliza la funcion __\"sensacion_temp\"__ para definir la sensación térmica de cada mes y grábala en una variable llamada __\"sensacion_bogota\"__, imprime la respuesta en tu cuaderno y responde a la pregunta en la __plataforma EdX__:\n",
    "\n",
    "<p style=\"text-align: center;\"><strong>¿Cuál es la sensacion térmica que más aparece en la lista?</strong></p>"
   ]
  },
  {
   "cell_type": "code",
   "execution_count": 28,
   "metadata": {},
   "outputs": [
    {
     "name": "stdout",
     "output_type": "stream",
     "text": [
      "['Placentero', 'Placentero', 'Placentero', 'Placentero', 'Placentero', 'Placentero', 'Placentero', 'Placentero', 'Placentero', 'Placentero', 'Placentero', 'Placentero']\n"
     ]
    }
   ],
   "source": [
    "sensacion_bogota = []\n",
    "for temp in temp_bogota:\n",
    "    sensacion_bogota.append(sensacion_temp(temp))\n",
    "print(sensacion_bogota)"
   ]
  },
  {
   "cell_type": "markdown",
   "metadata": {},
   "source": [
    "17. Guarda tu libreta y colócala en una carpeta comprimida con extensión __.zip__. Sube el archivo __.zip__ a la __plataforma de EdX__ y califica los ejercicios de tus demás compañeros."
   ]
  },
  {
   "cell_type": "markdown",
   "metadata": {},
   "source": [
    "**Referencias**\n",
    "\n",
    "1. __HENTSCHELL, G.__ (1986), A human biometeorology classification of climate for large and local scales. Climate and Human Health. Proceedings of the Symposium in Leningrade, 1, 120-138\n",
    "\n",
    "2. __MISSENARD, A.__ (1937), L’Homme et le Climat. Francia: Eyrolles.\n",
    "\n",
    "<img src=\"img3/Anáhuac_edX.png\" width=\"498\" height=\"150\" align=\"center\"/>"
   ]
  }
 ],
 "metadata": {
  "kernelspec": {
   "display_name": "Python 3",
   "language": "python",
   "name": "python3"
  },
  "language_info": {
   "codemirror_mode": {
    "name": "ipython",
    "version": 3
   },
   "file_extension": ".py",
   "mimetype": "text/x-python",
   "name": "python",
   "nbconvert_exporter": "python",
   "pygments_lexer": "ipython3",
   "version": "3.12.7"
  }
 },
 "nbformat": 4,
 "nbformat_minor": 4
}
